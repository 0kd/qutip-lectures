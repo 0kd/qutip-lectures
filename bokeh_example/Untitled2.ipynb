{
 "cells": [
  {
   "cell_type": "code",
   "execution_count": 41,
   "metadata": {},
   "outputs": [],
   "source": [
    "%matplotlib notebook\n",
    "import matplotlib.pyplot as plt\n",
    "import numpy as np"
   ]
  },
  {
   "cell_type": "code",
   "execution_count": 42,
   "metadata": {},
   "outputs": [],
   "source": [
    "from qutip import *"
   ]
  },
  {
   "cell_type": "markdown",
   "metadata": {},
   "source": [
    "## Parameters"
   ]
  },
  {
   "cell_type": "code",
   "execution_count": 43,
   "metadata": {},
   "outputs": [],
   "source": [
    "N = 20"
   ]
  },
  {
   "cell_type": "code",
   "execution_count": 44,
   "metadata": {},
   "outputs": [],
   "source": [
    "def plot_wigner_2d_3d(psi):\n",
    "    #fig, axes = plt.subplots(1, 2, subplot_kw={'projection': '3d'}, figsize=(12, 6))\n",
    "    fig = plt.figure(figsize=(17, 8))\n",
    "    \n",
    "    ax = fig.add_subplot(1, 2, 1)\n",
    "    plot_wigner(psi, fig=fig, ax=ax, alpha_max=6);\n",
    "    \n",
    "    ax = fig.add_subplot(1, 2, 2, projection='3d')\n",
    "    plot_wigner(psi, fig=fig, ax=ax, projection='3d', alpha_max=6);\n",
    "    \n",
    "    plt.close(fig)\n",
    "    return fig"
   ]
  },
  {
   "cell_type": "markdown",
   "metadata": {},
   "source": [
    "## Vacuum state using itertools"
   ]
  },
  {
   "cell_type": "code",
   "execution_count": 45,
   "metadata": {},
   "outputs": [],
   "source": [
    "from ipywidgets import interact"
   ]
  },
  {
   "cell_type": "code",
   "execution_count": 46,
   "metadata": {},
   "outputs": [],
   "source": [
    "def plot_wigner_interact_basis(psin):\n",
    "    return plot_wigner_2d_3d(basis(N, psin))"
   ]
  },
  {
   "cell_type": "code",
   "execution_count": 48,
   "metadata": {
    "scrolled": false
   },
   "outputs": [
    {
     "data": {
      "application/vnd.jupyter.widget-view+json": {
       "model_id": "955fa01b88494d2a88fbac74195d91f3",
       "version_major": 2,
       "version_minor": 0
      },
      "text/plain": [
       "interactive(children=(Dropdown(description='psin', options=(0, 1, 2, 3, 4, 5, 6), value=0), Output()), _dom_cl…"
      ]
     },
     "metadata": {},
     "output_type": "display_data"
    },
    {
     "data": {
      "text/plain": [
       "<function __main__.plot_wigner_interact_basis(psin)>"
      ]
     },
     "execution_count": 48,
     "metadata": {},
     "output_type": "execute_result"
    }
   ],
   "source": [
    "interact(plot_wigner_interact_basis, psin=list(range(7)))"
   ]
  },
  {
   "cell_type": "code",
   "execution_count": null,
   "metadata": {},
   "outputs": [],
   "source": []
  },
  {
   "cell_type": "code",
   "execution_count": 39,
   "metadata": {},
   "outputs": [],
   "source": [
    "def plot_wigner3(rho, fig=None, ax=None, \n",
    "                alpha_max=7.5, \n",
    "                method='clenshaw', projection='2d'):\n",
    "    xvec = np.linspace(-alpha_max, alpha_max, 200)\n",
    "    W0 = wigner(rho, xvec, xvec, method=method)\n",
    "    W, yvec = W0 if type(W0) is tuple else (W0, xvec)\n",
    "    print(\"W\", W)\n",
    "    print('yvec', yvec)\n",
    "    print(\"W0\", W0)"
   ]
  },
  {
   "cell_type": "code",
   "execution_count": 40,
   "metadata": {},
   "outputs": [
    {
     "name": "stdout",
     "output_type": "stream",
     "text": [
      "W [[4.41286776e-50 1.35922035e-49 4.13927025e-49 ... 4.13927025e-49\n",
      "  1.35922035e-49 4.41286776e-50]\n",
      " [1.35922035e-49 4.18657448e-49 1.27494878e-48 ... 1.27494878e-48\n",
      "  4.18657448e-49 1.35922035e-49]\n",
      " [4.13927025e-49 1.27494878e-48 3.88263577e-48 ... 3.88263577e-48\n",
      "  1.27494878e-48 4.13927025e-49]\n",
      " ...\n",
      " [4.13927025e-49 1.27494878e-48 3.88263577e-48 ... 3.88263577e-48\n",
      "  1.27494878e-48 4.13927025e-49]\n",
      " [1.35922035e-49 4.18657448e-49 1.27494878e-48 ... 1.27494878e-48\n",
      "  4.18657448e-49 1.35922035e-49]\n",
      " [4.41286776e-50 1.35922035e-49 4.13927025e-49 ... 4.13927025e-49\n",
      "  1.35922035e-49 4.41286776e-50]]\n",
      "yvec [-7.5        -7.42462312 -7.34924623 -7.27386935 -7.19849246 -7.12311558\n",
      " -7.04773869 -6.97236181 -6.89698492 -6.82160804 -6.74623116 -6.67085427\n",
      " -6.59547739 -6.5201005  -6.44472362 -6.36934673 -6.29396985 -6.21859296\n",
      " -6.14321608 -6.0678392  -5.99246231 -5.91708543 -5.84170854 -5.76633166\n",
      " -5.69095477 -5.61557789 -5.54020101 -5.46482412 -5.38944724 -5.31407035\n",
      " -5.23869347 -5.16331658 -5.0879397  -5.01256281 -4.93718593 -4.86180905\n",
      " -4.78643216 -4.71105528 -4.63567839 -4.56030151 -4.48492462 -4.40954774\n",
      " -4.33417085 -4.25879397 -4.18341709 -4.1080402  -4.03266332 -3.95728643\n",
      " -3.88190955 -3.80653266 -3.73115578 -3.65577889 -3.58040201 -3.50502513\n",
      " -3.42964824 -3.35427136 -3.27889447 -3.20351759 -3.1281407  -3.05276382\n",
      " -2.97738693 -2.90201005 -2.82663317 -2.75125628 -2.6758794  -2.60050251\n",
      " -2.52512563 -2.44974874 -2.37437186 -2.29899497 -2.22361809 -2.14824121\n",
      " -2.07286432 -1.99748744 -1.92211055 -1.84673367 -1.77135678 -1.6959799\n",
      " -1.62060302 -1.54522613 -1.46984925 -1.39447236 -1.31909548 -1.24371859\n",
      " -1.16834171 -1.09296482 -1.01758794 -0.94221106 -0.86683417 -0.79145729\n",
      " -0.7160804  -0.64070352 -0.56532663 -0.48994975 -0.41457286 -0.33919598\n",
      " -0.2638191  -0.18844221 -0.11306533 -0.03768844  0.03768844  0.11306533\n",
      "  0.18844221  0.2638191   0.33919598  0.41457286  0.48994975  0.56532663\n",
      "  0.64070352  0.7160804   0.79145729  0.86683417  0.94221106  1.01758794\n",
      "  1.09296482  1.16834171  1.24371859  1.31909548  1.39447236  1.46984925\n",
      "  1.54522613  1.62060302  1.6959799   1.77135678  1.84673367  1.92211055\n",
      "  1.99748744  2.07286432  2.14824121  2.22361809  2.29899497  2.37437186\n",
      "  2.44974874  2.52512563  2.60050251  2.6758794   2.75125628  2.82663317\n",
      "  2.90201005  2.97738693  3.05276382  3.1281407   3.20351759  3.27889447\n",
      "  3.35427136  3.42964824  3.50502513  3.58040201  3.65577889  3.73115578\n",
      "  3.80653266  3.88190955  3.95728643  4.03266332  4.1080402   4.18341709\n",
      "  4.25879397  4.33417085  4.40954774  4.48492462  4.56030151  4.63567839\n",
      "  4.71105528  4.78643216  4.86180905  4.93718593  5.01256281  5.0879397\n",
      "  5.16331658  5.23869347  5.31407035  5.38944724  5.46482412  5.54020101\n",
      "  5.61557789  5.69095477  5.76633166  5.84170854  5.91708543  5.99246231\n",
      "  6.0678392   6.14321608  6.21859296  6.29396985  6.36934673  6.44472362\n",
      "  6.5201005   6.59547739  6.67085427  6.74623116  6.82160804  6.89698492\n",
      "  6.97236181  7.04773869  7.12311558  7.19849246  7.27386935  7.34924623\n",
      "  7.42462312  7.5       ]\n",
      "W0 [[4.41286776e-50 1.35922035e-49 4.13927025e-49 ... 4.13927025e-49\n",
      "  1.35922035e-49 4.41286776e-50]\n",
      " [1.35922035e-49 4.18657448e-49 1.27494878e-48 ... 1.27494878e-48\n",
      "  4.18657448e-49 1.35922035e-49]\n",
      " [4.13927025e-49 1.27494878e-48 3.88263577e-48 ... 3.88263577e-48\n",
      "  1.27494878e-48 4.13927025e-49]\n",
      " ...\n",
      " [4.13927025e-49 1.27494878e-48 3.88263577e-48 ... 3.88263577e-48\n",
      "  1.27494878e-48 4.13927025e-49]\n",
      " [1.35922035e-49 4.18657448e-49 1.27494878e-48 ... 1.27494878e-48\n",
      "  4.18657448e-49 1.35922035e-49]\n",
      " [4.41286776e-50 1.35922035e-49 4.13927025e-49 ... 4.13927025e-49\n",
      "  1.35922035e-49 4.41286776e-50]]\n"
     ]
    }
   ],
   "source": [
    "psi = basis(N, 0)\n",
    "plot_wigner3(psi)"
   ]
  },
  {
   "cell_type": "code",
   "execution_count": null,
   "metadata": {},
   "outputs": [],
   "source": []
  },
  {
   "cell_type": "code",
   "execution_count": null,
   "metadata": {},
   "outputs": [],
   "source": []
  },
  {
   "cell_type": "code",
   "execution_count": null,
   "metadata": {},
   "outputs": [],
   "source": []
  }
 ],
 "metadata": {
  "kernelspec": {
   "display_name": "Python 3",
   "language": "python",
   "name": "python3"
  },
  "language_info": {
   "codemirror_mode": {
    "name": "ipython",
    "version": 3
   },
   "file_extension": ".py",
   "mimetype": "text/x-python",
   "name": "python",
   "nbconvert_exporter": "python",
   "pygments_lexer": "ipython3",
   "version": "3.8.1"
  }
 },
 "nbformat": 4,
 "nbformat_minor": 4
}
