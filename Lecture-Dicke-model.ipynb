{
 "metadata": {
  "name": "Lecture-Dicke-model"
 },
 "nbformat": 3,
 "nbformat_minor": 0,
 "worksheets": [
  {
   "cells": [
    {
     "cell_type": "markdown",
     "metadata": {},
     "source": [
      "# QuTiP simulation of the Dicke model \n",
      "\n",
      "J. R. Johansson, robert@riken.jp\n",
      "\n",
      "http://dml.riken.jp/~rob/"
     ]
    },
    {
     "cell_type": "code",
     "collapsed": false,
     "input": [
      "%pylab inline"
     ],
     "language": "python",
     "metadata": {},
     "outputs": [
      {
       "output_type": "stream",
       "stream": "stdout",
       "text": [
        "\n",
        "Welcome to pylab, a matplotlib-based Python environment [backend: module://IPython.zmq.pylab.backend_inline].\n",
        "For more information, type 'help(pylab)'.\n"
       ]
      }
     ],
     "prompt_number": 1
    },
    {
     "cell_type": "code",
     "collapsed": false,
     "input": [
      "from qutip import *"
     ],
     "language": "python",
     "metadata": {},
     "outputs": [],
     "prompt_number": 2
    },
    {
     "cell_type": "markdown",
     "metadata": {},
     "source": [
      "## Introduction\n",
      "\n",
      "The Dicke Hamiltonian consists of a cavity mode and $N$ spin-1/2 coupled to the cavity:\n",
      "\n",
      "\n",
      "### $\\displaystyle H_D = \\omega_0 \\sum_{i=1}^N \\sigma_z^{(i)} + \\omega a^\\dagger a + \\sum_{i}^N \\frac{\\lambda}{\\sqrt{N}}(a + a^\\dagger)(\\sigma_+^{(i)}+\\sigma_-^{(i)})$\n",
      "\n",
      "### $\\displaystyle H_D = \\omega_0 J_z + \\omega a^\\dagger a +  \\frac{\\lambda}{\\sqrt{N}}(a + a^\\dagger)(J_+ + J_-)$\n",
      "\n",
      "where $J_z$ and $J_\\pm$ are the collective angular momentum operators fpr a pseudospin of length $j=N/2$:\n",
      "\n",
      "### $J_z = \\sum_{i=1}^N \\sigma_z^{(i)}$\n",
      "\n",
      "### $J_\\pm = \\sum_{i=1}^N \\sigma_\\pm^{(i)}$\n"
     ]
    },
    {
     "cell_type": "markdown",
     "metadata": {},
     "source": [
      "## Setup problem in QuTiP"
     ]
    },
    {
     "cell_type": "code",
     "collapsed": false,
     "input": [
      "w  = 1.0\n",
      "w0 = 1.0\n",
      "\n",
      "lmbd = 0.1"
     ],
     "language": "python",
     "metadata": {},
     "outputs": [],
     "prompt_number": 16
    },
    {
     "cell_type": "code",
     "collapsed": false,
     "input": [
      "M = 5\n",
      "N = 4\n",
      "j = N/2.0\n",
      "n = 2*j + 1\n",
      "\n",
      "a  = tensor(destroy(M), qeye(n))\n",
      "Jp = tensor(qeye(M), jmat(j, '+'))\n",
      "Jm = tensor(qeye(M), jmat(j, '-'))\n",
      "Jz = tensor(qeye(M), jmat(j, 'z'))\n",
      "\n",
      "H = w * a.dag() * a + w0 * Jz + lmbd / sqrt(N) * (a + a.dag()) * (Jp + Jm)\n",
      "\n",
      "H"
     ],
     "language": "python",
     "metadata": {},
     "outputs": [
      {
       "latex": [
        "\\begin{equation}\\text{Quantum object: dims = [[5, 5], [5, 5]], shape = [25, 25], type = oper, isHerm = True}\\\\[1em]\\begin{pmatrix}2.0 & 0.0 & 0.0 & 0.0 & 0.0 & \\cdots & 0.0 & 0.0 & 0.0 & 0.0 & 0.0\\\\0.0 & 1.0 & 0.0 & 0.0 & 0.0 & \\cdots & 0.0 & 0.0 & 0.0 & 0.0 & 0.0\\\\0.0 & 0.0 & 0.0 & 0.0 & 0.0 & \\cdots & 0.0 & 0.0 & 0.0 & 0.0 & 0.0\\\\0.0 & 0.0 & 0.0 & -1.0 & 0.0 & \\cdots & 0.0 & 0.0 & 0.0 & 0.0 & 0.0\\\\0.0 & 0.0 & 0.0 & 0.0 & -2.0 & \\cdots & 0.0 & 0.0 & 0.0 & 0.0 & 0.0\\\\\\vdots & \\vdots & \\vdots & \\vdots & \\vdots & \\ddots & \\vdots & \\vdots & \\vdots & \\vdots & \\vdots\\\\0.0 & 0.0 & 0.0 & 0.0 & 0.0 & \\cdots & 6.0 & 0.0 & 0.0 & 0.0 & 0.0\\\\0.0 & 0.0 & 0.0 & 0.0 & 0.0 & \\cdots & 0.0 & 5.0 & 0.0 & 0.0 & 0.0\\\\0.0 & 0.0 & 0.0 & 0.0 & 0.0 & \\cdots & 0.0 & 0.0 & 4.0 & 0.0 & 0.0\\\\0.0 & 0.0 & 0.0 & 0.0 & 0.0 & \\cdots & 0.0 & 0.0 & 0.0 & 3.0 & 0.0\\\\0.0 & 0.0 & 0.0 & 0.0 & 0.0 & \\cdots & 0.0 & 0.0 & 0.0 & 0.0 & 2.0\\\\\\end{pmatrix}\\end{equation}"
       ],
       "output_type": "pyout",
       "prompt_number": 24,
       "text": [
        "Quantum object: dims = [[5, 5], [5, 5]], shape = [25, 25], type = oper, isherm = True\n",
        "Qobj data =\n",
        "[[ 2.          0.          0.          0.          0.          0.          0.1\n",
        "   0.          0.          0.          0.          0.          0.          0.\n",
        "   0.          0.          0.          0.          0.          0.          0.\n",
        "   0.          0.          0.          0.        ]\n",
        " [ 0.          1.          0.          0.          0.          0.1         0.\n",
        "   0.12247449  0.          0.          0.          0.          0.          0.\n",
        "   0.          0.          0.          0.          0.          0.          0.\n",
        "   0.          0.          0.          0.        ]\n",
        " [ 0.          0.          0.          0.          0.          0.\n",
        "   0.12247449  0.          0.12247449  0.          0.          0.          0.\n",
        "   0.          0.          0.          0.          0.          0.          0.\n",
        "   0.          0.          0.          0.          0.        ]\n",
        " [ 0.          0.          0.         -1.          0.          0.          0.\n",
        "   0.12247449  0.          0.1         0.          0.          0.          0.\n",
        "   0.          0.          0.          0.          0.          0.          0.\n",
        "   0.          0.          0.          0.        ]\n",
        " [ 0.          0.          0.          0.         -2.          0.          0.\n",
        "   0.          0.1         0.          0.          0.          0.          0.\n",
        "   0.          0.          0.          0.          0.          0.          0.\n",
        "   0.          0.          0.          0.        ]\n",
        " [ 0.          0.1         0.          0.          0.          3.          0.\n",
        "   0.          0.          0.          0.          0.14142136  0.          0.\n",
        "   0.          0.          0.          0.          0.          0.          0.\n",
        "   0.          0.          0.          0.        ]\n",
        " [ 0.1         0.          0.12247449  0.          0.          0.          2.\n",
        "   0.          0.          0.          0.14142136  0.          0.17320508\n",
        "   0.          0.          0.          0.          0.          0.          0.\n",
        "   0.          0.          0.          0.          0.        ]\n",
        " [ 0.          0.12247449  0.          0.12247449  0.          0.          0.\n",
        "   1.          0.          0.          0.          0.17320508  0.\n",
        "   0.17320508  0.          0.          0.          0.          0.          0.\n",
        "   0.          0.          0.          0.          0.        ]\n",
        " [ 0.          0.          0.12247449  0.          0.1         0.          0.\n",
        "   0.          0.          0.          0.          0.          0.17320508\n",
        "   0.          0.14142136  0.          0.          0.          0.          0.\n",
        "   0.          0.          0.          0.          0.        ]\n",
        " [ 0.          0.          0.          0.1         0.          0.          0.\n",
        "   0.          0.         -1.          0.          0.          0.\n",
        "   0.14142136  0.          0.          0.          0.          0.          0.\n",
        "   0.          0.          0.          0.          0.        ]\n",
        " [ 0.          0.          0.          0.          0.          0.\n",
        "   0.14142136  0.          0.          0.          4.          0.          0.\n",
        "   0.          0.          0.          0.17320508  0.          0.          0.\n",
        "   0.          0.          0.          0.          0.        ]\n",
        " [ 0.          0.          0.          0.          0.          0.14142136\n",
        "   0.          0.17320508  0.          0.          0.          3.          0.\n",
        "   0.          0.          0.17320508  0.          0.21213203  0.          0.\n",
        "   0.          0.          0.          0.          0.        ]\n",
        " [ 0.          0.          0.          0.          0.          0.\n",
        "   0.17320508  0.          0.17320508  0.          0.          0.          2.\n",
        "   0.          0.          0.          0.21213203  0.          0.21213203\n",
        "   0.          0.          0.          0.          0.          0.        ]\n",
        " [ 0.          0.          0.          0.          0.          0.          0.\n",
        "   0.17320508  0.          0.14142136  0.          0.          0.          1.\n",
        "   0.          0.          0.          0.21213203  0.          0.17320508\n",
        "   0.          0.          0.          0.          0.        ]\n",
        " [ 0.          0.          0.          0.          0.          0.          0.\n",
        "   0.          0.14142136  0.          0.          0.          0.          0.\n",
        "   0.          0.          0.          0.          0.17320508  0.          0.\n",
        "   0.          0.          0.          0.        ]\n",
        " [ 0.          0.          0.          0.          0.          0.          0.\n",
        "   0.          0.          0.          0.          0.17320508  0.          0.\n",
        "   0.          5.          0.          0.          0.          0.          0.\n",
        "   0.2         0.          0.          0.        ]\n",
        " [ 0.          0.          0.          0.          0.          0.          0.\n",
        "   0.          0.          0.          0.17320508  0.          0.21213203\n",
        "   0.          0.          0.          4.          0.          0.          0.\n",
        "   0.2         0.          0.24494897  0.          0.        ]\n",
        " [ 0.          0.          0.          0.          0.          0.          0.\n",
        "   0.          0.          0.          0.          0.21213203  0.\n",
        "   0.21213203  0.          0.          0.          3.          0.          0.\n",
        "   0.          0.24494897  0.          0.24494897  0.        ]\n",
        " [ 0.          0.          0.          0.          0.          0.          0.\n",
        "   0.          0.          0.          0.          0.          0.21213203\n",
        "   0.          0.17320508  0.          0.          0.          2.          0.\n",
        "   0.          0.          0.24494897  0.          0.2       ]\n",
        " [ 0.          0.          0.          0.          0.          0.          0.\n",
        "   0.          0.          0.          0.          0.          0.\n",
        "   0.17320508  0.          0.          0.          0.          0.          1.\n",
        "   0.          0.          0.          0.2         0.        ]\n",
        " [ 0.          0.          0.          0.          0.          0.          0.\n",
        "   0.          0.          0.          0.          0.          0.          0.\n",
        "   0.          0.          0.2         0.          0.          0.          6.\n",
        "   0.          0.          0.          0.        ]\n",
        " [ 0.          0.          0.          0.          0.          0.          0.\n",
        "   0.          0.          0.          0.          0.          0.          0.\n",
        "   0.          0.2         0.          0.24494897  0.          0.          0.\n",
        "   5.          0.          0.          0.        ]\n",
        " [ 0.          0.          0.          0.          0.          0.          0.\n",
        "   0.          0.          0.          0.          0.          0.          0.\n",
        "   0.          0.          0.24494897  0.          0.24494897  0.          0.\n",
        "   0.          4.          0.          0.        ]\n",
        " [ 0.          0.          0.          0.          0.          0.          0.\n",
        "   0.          0.          0.          0.          0.          0.          0.\n",
        "   0.          0.          0.          0.24494897  0.          0.2         0.\n",
        "   0.          0.          3.          0.        ]\n",
        " [ 0.          0.          0.          0.          0.          0.          0.\n",
        "   0.          0.          0.          0.          0.          0.          0.\n",
        "   0.          0.          0.          0.          0.2         0.          0.\n",
        "   0.          0.          0.          2.        ]]"
       ]
      }
     ],
     "prompt_number": 24
    },
    {
     "cell_type": "code",
     "collapsed": false,
     "input": [],
     "language": "python",
     "metadata": {},
     "outputs": []
    }
   ],
   "metadata": {}
  }
 ]
}