{
 "metadata": {
  "name": "Lecture-Dicke-model"
 },
 "nbformat": 3,
 "nbformat_minor": 0,
 "worksheets": [
  {
   "cells": [
    {
     "cell_type": "markdown",
     "metadata": {},
     "source": [
      "# QuTiP lecture: The Dicke model \n",
      "\n",
      "Author: J. R. Johansson, robert@riken.jp\n",
      "\n",
      "http://dml.riken.jp/~rob/\n",
      "\n",
      "Latest version of this ipython notebook lecture is available at: http://github.com/jrjohansson/qutip-lectures"
     ]
    },
    {
     "cell_type": "code",
     "collapsed": false,
     "input": [
      "%pylab inline"
     ],
     "language": "python",
     "metadata": {},
     "outputs": [
      {
       "output_type": "stream",
       "stream": "stdout",
       "text": [
        "\n",
        "Welcome to pylab, a matplotlib-based Python environment [backend: module://IPython.zmq.pylab.backend_inline].\n",
        "For more information, type 'help(pylab)'.\n"
       ]
      }
     ],
     "prompt_number": 1
    },
    {
     "cell_type": "code",
     "collapsed": false,
     "input": [
      "from qutip import *"
     ],
     "language": "python",
     "metadata": {},
     "outputs": [],
     "prompt_number": 2
    },
    {
     "cell_type": "markdown",
     "metadata": {},
     "source": [
      "## Introduction\n",
      "\n",
      "The Dicke Hamiltonian consists of a cavity mode and $N$ spin-1/2 coupled to the cavity:\n",
      "\n",
      "\n",
      "### $\\displaystyle H_D = \\omega_0 \\sum_{i=1}^N \\sigma_z^{(i)} + \\omega a^\\dagger a + \\sum_{i}^N \\frac{\\lambda}{\\sqrt{N}}(a + a^\\dagger)(\\sigma_+^{(i)}+\\sigma_-^{(i)})$\n",
      "\n",
      "### $\\displaystyle H_D = \\omega_0 J_z + \\omega a^\\dagger a +  \\frac{\\lambda}{\\sqrt{N}}(a + a^\\dagger)(J_+ + J_-)$\n",
      "\n",
      "where $J_z$ and $J_\\pm$ are the collective angular momentum operators fpr a pseudospin of length $j=N/2$:\n",
      "\n",
      "### $J_z = \\sum_{i=1}^N \\sigma_z^{(i)}$\n",
      "\n",
      "### $J_\\pm = \\sum_{i=1}^N \\sigma_\\pm^{(i)}$\n",
      "\n",
      "\n",
      "### References\n",
      "\n",
      " * Lambert et al., Phys. Rev. B 80, 165308 (2009)\n",
      "\n",
      " * Lambert et al., Phys. Rev. Lett. 92, 073602 (2004)"
     ]
    },
    {
     "cell_type": "markdown",
     "metadata": {},
     "source": [
      "## Setup problem in QuTiP"
     ]
    },
    {
     "cell_type": "code",
     "collapsed": false,
     "input": [
      "w  = 1.0\n",
      "w0 = 1.0\n",
      "\n",
      "g = 1.0\n",
      "kappa = 0.05 # 1.75\n",
      "gamma = 0.15"
     ],
     "language": "python",
     "metadata": {},
     "outputs": [],
     "prompt_number": 3
    },
    {
     "cell_type": "code",
     "collapsed": false,
     "input": [
      "M = 30\n",
      "N = 8\n",
      "j = N/2.0\n",
      "n = 2*j + 1\n",
      "\n",
      "a  = tensor(destroy(M), qeye(n))\n",
      "Jp = tensor(qeye(M), jmat(j, '+'))\n",
      "Jm = tensor(qeye(M), jmat(j, '-'))\n",
      "Jz = tensor(qeye(M), jmat(j, 'z'))\n",
      "\n",
      "H0 = w * a.dag() * a + w0 * Jz\n",
      "H1 = 1.0 / sqrt(N) * (a + a.dag()) * (Jp + Jm)\n",
      "H = H0 + g * H1\n",
      "\n",
      "H"
     ],
     "language": "python",
     "metadata": {},
     "outputs": [
      {
       "latex": [
        "\\begin{equation}\\text{Quantum object: dims = [[30, 9], [30, 9]], shape = [270, 270], type = oper, isHerm = True}\\\\[1em]\\begin{pmatrix}4.0 & 0.0 & 0.0 & 0.0 & 0.0 & \\cdots & 0.0 & 0.0 & 0.0 & 0.0 & 0.0\\\\0.0 & 3.0 & 0.0 & 0.0 & 0.0 & \\cdots & 0.0 & 0.0 & 0.0 & 0.0 & 0.0\\\\0.0 & 0.0 & 2.0 & 0.0 & 0.0 & \\cdots & 0.0 & 0.0 & 0.0 & 0.0 & 0.0\\\\0.0 & 0.0 & 0.0 & 1.0 & 0.0 & \\cdots & 0.0 & 0.0 & 0.0 & 0.0 & 0.0\\\\0.0 & 0.0 & 0.0 & 0.0 & 0.0 & \\cdots & 0.0 & 0.0 & 0.0 & 0.0 & 0.0\\\\\\vdots & \\vdots & \\vdots & \\vdots & \\vdots & \\ddots & \\vdots & \\vdots & \\vdots & \\vdots & \\vdots\\\\0.0 & 0.0 & 0.0 & 0.0 & 0.0 & \\cdots & 29.0 & 0.0 & 0.0 & 0.0 & 0.0\\\\0.0 & 0.0 & 0.0 & 0.0 & 0.0 & \\cdots & 0.0 & 28.0 & 0.0 & 0.0 & 0.0\\\\0.0 & 0.0 & 0.0 & 0.0 & 0.0 & \\cdots & 0.0 & 0.0 & 27.0 & 0.0 & 0.0\\\\0.0 & 0.0 & 0.0 & 0.0 & 0.0 & \\cdots & 0.0 & 0.0 & 0.0 & 26.0 & 0.0\\\\0.0 & 0.0 & 0.0 & 0.0 & 0.0 & \\cdots & 0.0 & 0.0 & 0.0 & 0.0 & 25.0\\\\\\end{pmatrix}\\end{equation}"
       ],
       "output_type": "pyout",
       "prompt_number": 4,
       "text": [
        "Quantum object: dims = [[30, 9], [30, 9]], shape = [270, 270], type = oper, isherm = True\n",
        "Qobj data =\n",
        "[[  4.   0.   0. ...,   0.   0.   0.]\n",
        " [  0.   3.   0. ...,   0.   0.   0.]\n",
        " [  0.   0.   2. ...,   0.   0.   0.]\n",
        " ..., \n",
        " [  0.   0.   0. ...,  27.   0.   0.]\n",
        " [  0.   0.   0. ...,   0.  26.   0.]\n",
        " [  0.   0.   0. ...,   0.   0.  25.]]"
       ]
      }
     ],
     "prompt_number": 4
    },
    {
     "cell_type": "markdown",
     "metadata": {},
     "source": [
      "### Structure of the Hamiltonian"
     ]
    },
    {
     "cell_type": "code",
     "collapsed": false,
     "input": [
      "fig, ax = subplots(1, 1, figsize=(10,10))\n",
      "hinton(H, ax=ax)"
     ],
     "language": "python",
     "metadata": {},
     "outputs": [
      {
       "output_type": "pyout",
       "prompt_number": 5,
       "text": [
        "<matplotlib.axes.AxesSubplot at 0x3a49990>"
       ]
      },
      {
       "output_type": "display_data",
       "png": "[encoded data removed]"
      }
     ],
     "prompt_number": 5
    },
    {
     "cell_type": "markdown",
     "metadata": {},
     "source": [
      "# Dissipative cavity"
     ]
    },
    {
     "cell_type": "code",
     "collapsed": false,
     "input": [
      "c_ops = [sqrt(kappa) * a]"
     ],
     "language": "python",
     "metadata": {},
     "outputs": [],
     "prompt_number": "*"
    },
    {
     "cell_type": "markdown",
     "metadata": {},
     "source": [
      "## Find the ground state as a function of cavity-spin interaction strength"
     ]
    },
    {
     "cell_type": "code",
     "collapsed": false,
     "input": [
      "g_vec = linspace(0.01, 1.0, 20)\n",
      "\n",
      "# Ground state and steady state for the Hamiltonian: H = H0 + g * H1\n",
      "rho_gnd_list = [(H0 + g * H1).groundstate()[1]  for g in g_vec]\n",
      "rho_ss_list  = [steadystate(H0 + g * H1, c_ops) for g in g_vec]"
     ],
     "language": "python",
     "metadata": {},
     "outputs": [],
     "prompt_number": "*"
    },
    {
     "cell_type": "markdown",
     "metadata": {},
     "source": [
      "## Cavity ground state occupation probability"
     ]
    },
    {
     "cell_type": "code",
     "collapsed": false,
     "input": [
      "n1_ss_vec  = zeros(shape(g_vec))\n",
      "n1_gmd_vec = zeros(shape(g_vec))\n",
      "\n",
      "for idx, rho in enumerate(rho_ss_list):\n",
      "    n1_ss_vec[idx] = expect(a.dag() * a, rho)   \n",
      "    \n",
      "n1_gnd_vec = expect(a.dag() * a, rho_gnd_list)   "
     ],
     "language": "python",
     "metadata": {},
     "outputs": [],
     "prompt_number": "*"
    },
    {
     "cell_type": "code",
     "collapsed": false,
     "input": [
      "fig, axes = subplots(1, 1, sharex=True, figsize=(8,4))\n",
      "\n",
      "axes.plot(g_vec, n1_vec, 'r', linewidth=2, label=\"cavity occupation\")\n",
      "axes.set_ylim(0, max(n1_vec))\n",
      "axes.set_ylabel(\"Cavity gnd occ. prob.\", fontsize=16)\n",
      "axes.set_xlabel(\"interaction strength\", fontsize=16)\n",
      "#axes.legend()\n",
      "\n",
      "fig.tight_layout()"
     ],
     "language": "python",
     "metadata": {},
     "outputs": [],
     "prompt_number": "*"
    },
    {
     "cell_type": "markdown",
     "metadata": {},
     "source": [
      "## Cavity Wigner function and Fock distribution as a function of coupling strength"
     ]
    },
    {
     "cell_type": "code",
     "collapsed": false,
     "input": [
      "rho_ss_sublist = rho_ss_list[::4]\n",
      "\n",
      "xvec = linspace(-7,7,200)\n",
      "\n",
      "fig_grid = (3, len(rho_ss_sublist))\n",
      "fig = figure(figsize=(4*len(rho_ss_sublist),12))\n",
      "\n",
      "for idx, rho_ss in enumerate(rho_ss_sublist):\n",
      "\n",
      "    # trace out the cavity density matrix\n",
      "    rho_ss_cavity = ptrace(rho_ss, 0)\n",
      "    \n",
      "    # calculate its wigner function\n",
      "    W = wigner(rho_ss_cavity, xvec, xvec)\n",
      "    \n",
      "    # plot its wigner function\n",
      "    ax = subplot2grid(fig_grid, (0, idx))\n",
      "    ax.contourf(xvec, xvec, W, 100)\n",
      "\n",
      "    # plot its fock-state distribution\n",
      "    ax = subplot2grid(fig_grid, (1, idx))\n",
      "    ax.bar(arange(0, M), real(rho_ss_cavity.diag()), color=\"blue\", alpha=0.6)\n",
      "    ax.set_ylim(0, 1)\n",
      "    \n",
      "# plot the cavity occupation probability in the ground state\n",
      "ax = subplot2grid(fig_grid, (2, 0), colspan=fig_grid[1])\n",
      "ax.plot(g_vec, n1_vec, 'r', linewidth=2, label=\"cavity occupation\")\n",
      "ax.set_xlim(0, max(g_vec))\n",
      "ax.set_ylim(0, max(n1_vec)*1.2)\n",
      "ax.set_ylabel(\"Cavity gnd occ. prob.\", fontsize=16)\n",
      "ax.set_xlabel(\"interaction strength\", fontsize=16)\n",
      "\n",
      "for g in g_vec[::4]:\n",
      "    ax.plot([g,g],[0,max(n1_vec)*1.2], 'b:', linewidth=5)"
     ],
     "language": "python",
     "metadata": {},
     "outputs": [],
     "prompt_number": "*"
    },
    {
     "cell_type": "markdown",
     "metadata": {},
     "source": [
      "### Entropy/Entanglement between spins and cavity"
     ]
    },
    {
     "cell_type": "code",
     "collapsed": false,
     "input": [
      "entropy_tot    = zeros(shape(g_vec))\n",
      "entropy_cavity = zeros(shape(g_vec))\n",
      "entropy_spin   = zeros(shape(g_vec))\n",
      "\n",
      "for idx, rho_ss in enumerate(rho_ss_list):\n",
      "\n",
      "    rho_ss_cavity = ptrace(rho_ss, 0)\n",
      "    rho_ss_spin   = ptrace(rho_ss, 1)\n",
      "    \n",
      "    entropy_tot[idx]    = entropy_vn(rho_ss, 2)\n",
      "    entropy_cavity[idx] = entropy_vn(rho_ss_cavity, 2)\n",
      "    entropy_spin[idx]   = entropy_vn(rho_ss_spin, 2)\n"
     ],
     "language": "python",
     "metadata": {},
     "outputs": [],
     "prompt_number": "*"
    },
    {
     "cell_type": "code",
     "collapsed": false,
     "input": [
      "fig, axes = subplots(1, 1, figsize=(12,6))\n",
      "axes.plot(g_vec, entropy_tot, 'k', g_vec, entropy_cavity, 'b', g_vec, entropy_spin, 'r--')\n",
      "fig.tight_layout()"
     ],
     "language": "python",
     "metadata": {},
     "outputs": [],
     "prompt_number": "*"
    },
    {
     "cell_type": "markdown",
     "metadata": {},
     "source": [
      "# Dissipative cavity and collectively dampled spins"
     ]
    },
    {
     "cell_type": "code",
     "collapsed": false,
     "input": [
      "c_ops = [sqrt(kappa) * a, sqrt(gamma) * Jm]"
     ],
     "language": "python",
     "metadata": {},
     "outputs": [],
     "prompt_number": "*"
    },
    {
     "cell_type": "markdown",
     "metadata": {},
     "source": [
      "## Find the ground state as a function of cavity-spin interaction strength"
     ]
    },
    {
     "cell_type": "code",
     "collapsed": false,
     "input": [
      "# Ground state for the Hamiltonian: H = H0 + g * H1\n",
      "rho_ss_list = [steadystate(H0 + g * H1, c_ops) for g in g_vec]"
     ],
     "language": "python",
     "metadata": {},
     "outputs": [],
     "prompt_number": "*"
    },
    {
     "cell_type": "markdown",
     "metadata": {},
     "source": [
      "## Cavity ground state occupation probability"
     ]
    },
    {
     "cell_type": "code",
     "collapsed": false,
     "input": [
      "n2_vec = zeros(shape(g_vec))\n",
      "\n",
      "for idx, rho_ss in enumerate(rho_ss_list):\n",
      "    n2_vec[idx] = expect(a.dag() * a, rho_ss)   "
     ],
     "language": "python",
     "metadata": {},
     "outputs": [],
     "prompt_number": "*"
    },
    {
     "cell_type": "code",
     "collapsed": false,
     "input": [
      "fig, axes = subplots(1, 1, sharex=True, figsize=(8,4))\n",
      "\n",
      "axes.plot(g_vec, n1_vec, 'r', linewidth=2, label=\"cavity damping\")\n",
      "axes.plot(g_vec, n2_vec, 'b', linewidth=2, label=\"cavity+spin damping\")\n",
      "axes.set_ylim(0, max(n2_vec))\n",
      "axes.set_ylabel(\"Cavity gnd occ. prob.\", fontsize=16)\n",
      "axes.set_xlabel(\"interaction strength\", fontsize=16)\n",
      "axes.legend(loc=0)\n",
      "\n",
      "fig.tight_layout()"
     ],
     "language": "python",
     "metadata": {},
     "outputs": [],
     "prompt_number": "*"
    },
    {
     "cell_type": "markdown",
     "metadata": {},
     "source": [
      "## Cavity Wigner function and Fock distribution as a function of coupling strength"
     ]
    },
    {
     "cell_type": "code",
     "collapsed": false,
     "input": [
      "rho_ss_sublist = rho_ss_list[::4]\n",
      "\n",
      "xvec = linspace(-6,6,200)\n",
      "\n",
      "fig_grid = (3, len(rho_ss_sublist))\n",
      "fig = figure(figsize=(4*len(rho_ss_sublist),12))\n",
      "\n",
      "for idx, rho_ss in enumerate(rho_ss_sublist):\n",
      "\n",
      "    # trace out the cavity density matrix\n",
      "    rho_ss_cavity = ptrace(rho_ss, 0)\n",
      "    \n",
      "    # calculate its wigner function\n",
      "    W = wigner(rho_ss_cavity, xvec, xvec)\n",
      "    \n",
      "    # plot its wigner function\n",
      "    ax = subplot2grid(fig_grid, (0, idx))\n",
      "    ax.contourf(xvec, xvec, W, 100)\n",
      "\n",
      "    # plot its fock-state distribution\n",
      "    ax = subplot2grid(fig_grid, (1, idx))\n",
      "    ax.bar(arange(0, M), real(rho_ss_cavity.diag()), color=\"blue\", alpha=0.6)\n",
      "    ax.set_ylim(0, 1)\n",
      "    \n",
      "# plot the cavity occupation probability in the ground state\n",
      "ax = subplot2grid(fig_grid, (2, 0), colspan=fig_grid[1])\n",
      "ax.plot(g_vec, n1_vec, 'r', linewidth=2, label=\"cavity occupation\")\n",
      "ax.set_xlim(0, max(g_vec))\n",
      "ax.set_ylim(0, max(n1_vec)*1.2)\n",
      "ax.set_ylabel(\"Cavity gnd occ. prob.\", fontsize=16)\n",
      "ax.set_xlabel(\"interaction strength\", fontsize=16)\n",
      "\n",
      "for g in g_vec[::4]:\n",
      "    ax.plot([g,g],[0,max(n1_vec)*1.2], 'b:', linewidth=5)"
     ],
     "language": "python",
     "metadata": {},
     "outputs": [],
     "prompt_number": "*"
    },
    {
     "cell_type": "code",
     "collapsed": false,
     "input": [],
     "language": "python",
     "metadata": {},
     "outputs": [],
     "prompt_number": "*"
    }
   ],
   "metadata": {}
  }
 ]
}